{
 "cells": [
  {
   "cell_type": "markdown",
   "id": "d606cd62",
   "metadata": {},
   "source": [
    "# <font face = \"Dongle\" size=7><center>Binary Search </center></font>"
   ]
  },
  {
   "cell_type": "markdown",
   "id": "4f297cb7",
   "metadata": {},
   "source": [
    "<font style = \"Dongle\" size = 6 ><center> Creating a <font color=#34FFB6 >list </font > of random numbers</center></font>"
   ]
  },
  {
   "cell_type": "code",
   "execution_count": 25,
   "id": "e401b93d",
   "metadata": {},
   "outputs": [],
   "source": [
    "import random as x\n",
    "start = x.randint(0,100+1)\n",
    "# getting the random number for the beginning of range(start)\n",
    "\n",
    "end = x.randint(start+2,100+1)\n",
    "# getting the random number for the end of range(end) that is greater than intial number(start)\n",
    "\n",
    "List = [x for x in range(start,end,2)]\n",
    "# creating a list of random integers between start and end\n",
    "# print(\"List generated is as follows : \",List)"
   ]
  },
  {
   "cell_type": "markdown",
   "id": "b632ef7b",
   "metadata": {},
   "source": [
    "<br>\n",
    "<font size = 6><center><font color=#39ff14 >  Input </font> number</center> </font>"
   ]
  },
  {
   "cell_type": "code",
   "execution_count": null,
   "id": "b4dd18de",
   "metadata": {},
   "outputs": [],
   "source": [
    "# variable key will store the value to be searched \n",
    "key =  int(input(\"Enter the value/key here : \"))"
   ]
  },
  {
   "cell_type": "markdown",
   "id": "2a6d3066",
   "metadata": {},
   "source": [
    "<br>\n",
    "<font size = 6><center><font color=#34FFB6> Binary </font> searching</center> </font>"
   ]
  },
  {
   "cell_type": "markdown",
   "id": "b193b670",
   "metadata": {},
   "source": [
    "<font face=\"courier\">In this approach, the element is always searched in the middle of a portion of an array. But the numbers should be in a sorted manner. Essential removing half of elements each time thus searching in the most efficient way."
   ]
  },
  {
   "cell_type": "code",
   "execution_count": null,
   "id": "a23519c9",
   "metadata": {},
   "outputs": [],
   "source": [
    "# This is the binary search function\n",
    "def binarySearchRandom(List, key):\n",
    "    high = len(List)-1\n",
    "    low = 0\n",
    "\n",
    "    # Repeat until the pointers low and high meet each other\n",
    "    while low <= high:\n",
    "\n",
    "        mid = int(low + (high - low)//2)   # finding the middle element\n",
    "\n",
    "        if List[mid] == key:      # if key is found in the middle then the index is returned\n",
    "            return mid\n",
    "\n",
    "        elif List[mid] < key:     # if key is greater then it must lie in the right half \n",
    "            low = mid + 1\n",
    "\n",
    "        else:                      # if key is smaller then it must lie in the left half \n",
    "            high = mid - 1         \n",
    "\n",
    "    return -1                  # if key is not present in the list then return -999 signifying not present in list\n"
   ]
  },
  {
   "cell_type": "markdown",
   "id": "db5eddf1",
   "metadata": {},
   "source": [
    "<font size = 6><center><font color=#39ff14 > Searching</font></center> </font>"
   ]
  },
  {
   "cell_type": "code",
   "execution_count": null,
   "id": "2286b3a2",
   "metadata": {},
   "outputs": [],
   "source": [
    "# calling the function\n",
    "result = binarySearchRandom(List,key)\n",
    "\n",
    "# if function returns -111 then key isn't present otherwise the index of key is returned\n",
    "if result == -1 :  \n",
    "    print(\"Element/key Not found !! \")\n",
    "else :\n",
    "    print(\"Element/key found at index : \" , result)"
   ]
  },
  {
   "cell_type": "markdown",
   "id": "8d0571ed",
   "metadata": {},
   "source": [
    "\n",
    "##### <font face=\"courier\">made by Brajeshwar Thakur</font>"
   ]
  }
 ],
 "metadata": {
  "kernelspec": {
   "display_name": "Python 3 (ipykernel)",
   "language": "python",
   "name": "python3"
  },
  "language_info": {
   "codemirror_mode": {
    "name": "ipython",
    "version": 3
   },
   "file_extension": ".py",
   "mimetype": "text/x-python",
   "name": "python",
   "nbconvert_exporter": "python",
   "pygments_lexer": "ipython3",
   "version": "3.9.7"
  }
 },
 "nbformat": 4,
 "nbformat_minor": 5
}

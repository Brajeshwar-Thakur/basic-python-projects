{
 "cells": [
  {
   "cell_type": "markdown",
   "id": "bf5bd830",
   "metadata": {},
   "source": [
    "# <font face = \"Dongle\" size=7><center> Child Nutrient Calculator </center></font>"
   ]
  },
  {
   "cell_type": "markdown",
   "id": "66a86416",
   "metadata": {},
   "source": [
    "<font style = \"Dongle\" size = 6 ><center>Information about the <font color=#34FFB6 > child</font ></center></font>"
   ]
  },
  {
   "cell_type": "markdown",
   "id": "206a9310",
   "metadata": {},
   "source": [
    "### <font face=\"courier\">Get <font color=#34FFB6 > name </font> variable</font>"
   ]
  },
  {
   "cell_type": "code",
   "execution_count": 1,
   "id": "ca582ab0",
   "metadata": {
    "scrolled": true
   },
   "outputs": [
    {
     "name": "stdout",
     "output_type": "stream",
     "text": [
      "Enter information about the child ->\n",
      "Name : Peter Parker\n"
     ]
    }
   ],
   "source": [
    "print(\"Enter information about the child ->\")\n",
    "name = input(\"Name : \")"
   ]
  },
  {
   "cell_type": "markdown",
   "id": "0aea6cd6",
   "metadata": {},
   "source": [
    "### <font face=\"courier\">Get <font color=#39ff14 > age </font> variable</font>"
   ]
  },
  {
   "cell_type": "code",
   "execution_count": 2,
   "id": "1f954cd7",
   "metadata": {},
   "outputs": [
    {
     "name": "stdout",
     "output_type": "stream",
     "text": [
      "Age(0 to 8) : 7\n"
     ]
    }
   ],
   "source": [
    "age = float(input(\"Age(0 to 8) : \"))\n",
    "if(age > 8):\n",
    "    print(\"please enter age between 0 to 8\")"
   ]
  },
  {
   "cell_type": "markdown",
   "id": "71f9aedb",
   "metadata": {},
   "source": [
    "### <font face=\"courier\">Get <font color=#34FFB6 > height and weight </font> variable</font>"
   ]
  },
  {
   "cell_type": "code",
   "execution_count": 3,
   "id": "90c623e2",
   "metadata": {
    "scrolled": true
   },
   "outputs": [
    {
     "name": "stdout",
     "output_type": "stream",
     "text": [
      "Height in inches : 45\n",
      "Weight in pounds\\lbs : 60\n"
     ]
    }
   ],
   "source": [
    "ht = float(input(\"Height in inches : \"))\n",
    "\n",
    "wt = float(input(\"Weight in pounds\\lbs : \"))"
   ]
  },
  {
   "cell_type": "markdown",
   "id": "4ee34bab",
   "metadata": {},
   "source": [
    "### <font face=\"courier\">Get <font color=#39ff14 > gender </font> variable</font>"
   ]
  },
  {
   "cell_type": "code",
   "execution_count": 4,
   "id": "442cd67c",
   "metadata": {},
   "outputs": [
    {
     "name": "stdout",
     "output_type": "stream",
     "text": [
      "\"M\" for male and \"F\" for female\n",
      " Gender : m\n"
     ]
    }
   ],
   "source": [
    "print('\"M\" for male and \"F\" for female')\n",
    "gender = input(\" Gender : \")\n",
    "\n",
    "gender = gender.upper()  # upper() method returns a string where all characters are in upper case. \n",
    "\n",
    "# this decides which pronoun to use as per the gender of the child which is further used in code\n",
    "if(gender == 'M'):  # gender is male(M) then we use 'he'\n",
    "    pronoun = 'he'\n",
    "else:               # gender is female(F) then we use 'she'\n",
    "    pronoun = 'she'"
   ]
  },
  {
   "cell_type": "markdown",
   "id": "4a048e1c",
   "metadata": {},
   "source": [
    "\n",
    "<br>\n",
    " <font size = 6><center><font color=#39ff14 >  Calorie </font> Consumption</center> </font>\n",
    "<br>"
   ]
  },
  {
   "cell_type": "markdown",
   "id": "3e0fdc48",
   "metadata": {},
   "source": [
    "<font face=\"courier\">Here we take as input what the child has eaten throughout the day and in what quantites. </font>"
   ]
  },
  {
   "cell_type": "code",
   "execution_count": 5,
   "id": "9d14c682",
   "metadata": {},
   "outputs": [
    {
     "name": "stdout",
     "output_type": "stream",
     "text": [
      "Enter calorie consumption in grams 'Enter 0 if not consumed' -> \n",
      "Milk : 300\n",
      "Vegetables : 300\n",
      "Meat : 200\n",
      "Lentils : 100\n",
      "Egg : 300\n",
      "Rice : 300\n"
     ]
    }
   ],
   "source": [
    "print(\"Enter calorie consumption in grams 'Enter 0 if not consumed' -> \")\n",
    "\n",
    "milk = int(input(\"Milk : \"))\n",
    "\n",
    "vegetable = int(input(\"Vegetables : \"))\n",
    "\n",
    "meat = int(input(\"Meat : \"))\n",
    "\n",
    "lentils = int(input(\"Lentils : \"))\n",
    "\n",
    "egg = int(input(\"Egg : \"))\n",
    "\n",
    "rice = int(input(\"Rice : \"))"
   ]
  },
  {
   "cell_type": "markdown",
   "id": "3fa6d5a3",
   "metadata": {},
   "source": [
    " <font size = 5><I><center>Total daily consumption of calories  </center></I>"
   ]
  },
  {
   "cell_type": "code",
   "execution_count": 6,
   "id": "3cf6c2b6",
   "metadata": {},
   "outputs": [
    {
     "name": "stdout",
     "output_type": "stream",
     "text": [
      "1809.0\n"
     ]
    }
   ],
   "source": [
    "# this calculates the total calories consumed\n",
    "(cal_Consumed) = milk*(100/100) + egg*(155/100) + rice*(130/100) + lentils*(113/100) + vegetable*(85/100) + meat*(143/100)\n",
    "print(cal_Consumed)"
   ]
  },
  {
   "cell_type": "markdown",
   "id": "6a39d885",
   "metadata": {},
   "source": [
    "<br>\n",
    "<br>\n",
    "<br>\n",
    " <font size = 6 ><center> <font color=#34FFB6 >BMI</font> calculation </center></font>\n",
    "<br>"
   ]
  },
  {
   "cell_type": "code",
   "execution_count": 7,
   "id": "60889ea8",
   "metadata": {},
   "outputs": [
    {
     "name": "stdout",
     "output_type": "stream",
     "text": [
      "Output : \n",
      "BMI of Peter Parker is 20.83 and he is healthy\n"
     ]
    }
   ],
   "source": [
    "bmi = float(wt/(ht**2)*703)\n",
    "BMI = round(bmi,2) # round off the BMI to 2 decimal places\n",
    "person = \"BMI of {0} is {1} and {2} is {3}\" # {1} for pronoun as per gender\n",
    "\n",
    "# severely underweight : BMI < 16\n",
    "if(BMI < 16):\n",
    "    state = \"severely underweight \"\n",
    "\n",
    "# underweight : BMI >= 16 and BMI < 18.5  \n",
    "elif(BMI >= 16 and BMI < 18.5):\n",
    "    state = \"underweight\"\n",
    "\n",
    "# healthy : BMI >= 18.5 and BMI < 25    \n",
    "elif(BMI >= 18.5 and BMI < 25):\n",
    "    state = \"healthy\"\n",
    "\n",
    "# overweight : BMI >= 25 and BMI < 30    \n",
    "elif(BMI >= 25 and BMI < 30):\n",
    "    state = \"overweight\"\n",
    "\n",
    "# obese : BMI >= 30\n",
    "elif(BMI >= 30):\n",
    "    state = \"obese\"\n",
    "    \n",
    "print(\"Output : \")\n",
    "print(person.format(name,BMI,pronoun,state))      "
   ]
  },
  {
   "cell_type": "markdown",
   "id": "2da36936",
   "metadata": {},
   "source": [
    "<br>\n",
    "<br>\n",
    "<font size = 6> <center> Checking wether the child is <font color=#39ff14 >undernourished</font> or <font color=#34FFB6>not undernourished</font> </center> </font>\n",
    "<br>"
   ]
  },
  {
   "cell_type": "code",
   "execution_count": 8,
   "id": "8dfbaa77",
   "metadata": {},
   "outputs": [
    {
     "name": "stdout",
     "output_type": "stream",
     "text": [
      "Output : \n",
      "The daily calorie consumption of Peter Parker is 1809.0 and he is not undernourished\n"
     ]
    }
   ],
   "source": [
    "statement = \"The daily calorie consumption of {0} is {1} and {2} is {3}\"\n",
    "\n",
    "# for the children b/w age 0-2 y/o min calories required is 800\n",
    "if(age >= 0 and age < 2):\n",
    "    min_Cal = 800\n",
    "    \n",
    "    if(cal_Consumed >= 800):           # nested if statements\n",
    "        value = \"not undernourished\"   # if calories consumed >= 800 \n",
    "    else:                              # then the child is not undernourished\n",
    "        value = \"undernourished\"       # else undernourished\n",
    "\n",
    "        \n",
    "# for the children b/w age 2-4 y/o min calories required is 1400     \n",
    "elif(age >= 2 and age < 4):\n",
    "    min_Cal = 1400\n",
    "    \n",
    "    if(cal_Consumed >= 1400):          # nested if statements\n",
    "        value = \"not undernourished\"   # if calories consumed >= 1400 \n",
    "    else:                              # then the child is not undernourished\n",
    "        value = \"undernourished\"       # else undernourished\n",
    "\n",
    "        \n",
    "# for the children b/w age 4-8 y/o min calories required is 1800        \n",
    "elif(age >= 4 and age < 8):\n",
    "    min_Cal = 1800\n",
    "    \n",
    "    if(cal_Consumed >= 1800):          # nested if statements\n",
    "        value = \"not undernourished\"   # if calories consumed >= 1400 \n",
    "    else:                              # then the child is not undernourished\n",
    "        value = \"undernourished\"       # else undernourished\n",
    "\n",
    "print(\"Output : \")        \n",
    "print(statement.format(name,cal_Consumed,pronoun,value))"
   ]
  },
  {
   "cell_type": "markdown",
   "id": "8e5f784c",
   "metadata": {},
   "source": [
    "## <font face=\"courier\">Overall Output : </font>"
   ]
  },
  {
   "cell_type": "code",
   "execution_count": 9,
   "id": "88f589a2",
   "metadata": {},
   "outputs": [
    {
     "name": "stdout",
     "output_type": "stream",
     "text": [
      "Overall Output : \n",
      "BMI of Peter Parker is 20.83 and he is healthy\n",
      "The daily calorie consumption of Peter Parker is 1809.0 and he is not undernourished\n"
     ]
    }
   ],
   "source": [
    "# person = \"BMI of {0} is {1} and {2} is {3}\"\n",
    "print(person.format(name,BMI,pronoun,state))  \n",
    "\n",
    "# statement = \"The daily calorie consumption of {0} is {1} and {2} is {3}\"\n",
    "print(statement.format(name,cal_Consumed,pronoun,value))"
   ]
  },
  {
   "cell_type": "markdown",
   "id": "a9c3905e",
   "metadata": {},
   "source": [
    "\n",
    "##### <font face=\"courier\">made by Brajeshwar Thakur</font>"
   ]
  }
 ],
 "metadata": {
  "kernelspec": {
   "display_name": "Python 3 (ipykernel)",
   "language": "python",
   "name": "python3"
  },
  "language_info": {
   "codemirror_mode": {
    "name": "ipython",
    "version": 3
   },
   "file_extension": ".py",
   "mimetype": "text/x-python",
   "name": "python",
   "nbconvert_exporter": "python",
   "pygments_lexer": "ipython3",
   "version": "3.9.7"
  }
 },
 "nbformat": 4,
 "nbformat_minor": 5
}
